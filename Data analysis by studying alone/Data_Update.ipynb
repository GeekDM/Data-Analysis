{
  "nbformat": 4,
  "nbformat_minor": 0,
  "metadata": {
    "colab": {
      "provenance": [],
      "authorship_tag": "ABX9TyOwHC3HtJsJsQsy0PCTIDrq",
      "include_colab_link": true
    },
    "kernelspec": {
      "name": "python3",
      "display_name": "Python 3"
    },
    "language_info": {
      "name": "python"
    }
  },
  "cells": [
    {
      "cell_type": "markdown",
      "metadata": {
        "id": "view-in-github",
        "colab_type": "text"
      },
      "source": [
        "<a href=\"https://colab.research.google.com/github/GeekDM/Data-Analysis/blob/main/Data%20analysis%20by%20studying%20alone/Data_Update.ipynb\" target=\"_parent\"><img src=\"https://colab.research.google.com/assets/colab-badge.svg\" alt=\"Open In Colab\"/></a>"
      ]
    },
    {
      "cell_type": "markdown",
      "source": [
        "# Data Update"
      ],
      "metadata": {
        "id": "YNxgPf8gPSHu"
      }
    },
    {
      "cell_type": "code",
      "source": [
        "import pandas as pd\n",
        "ns_book4 = pd.read_csv('/ns_book4.csv', low_memory=False)\n",
        "ns_book4.head()"
      ],
      "metadata": {
        "colab": {
          "base_uri": "https://localhost:8080/",
          "height": 306
        },
        "id": "crQv1uWBRRog",
        "outputId": "ddae2a47-eb12-49bf-82b4-2c71f68659a8"
      },
      "execution_count": 45,
      "outputs": [
        {
          "output_type": "execute_result",
          "data": {
            "text/plain": [
              "   Unnamed: 0  번호                                                도서명  \\\n",
              "0           0   1                             一千?? =a thousand blue    \n",
              "1           1   2                                           地球??的?室    \n",
              "2           2   3                                       ボンジュ?ル,トゥ?ル    \n",
              "3           3   4                                              明るい夜    \n",
              "4           4   5  はちどり =House of Hummingbird :1994年、閉ざされることのない記憶...   \n",
              "\n",
              "                        저자          출판사  발행년도           ISBN  세트 ISBN 부가기호  \\\n",
              "0         [?]千先? 著  ;胡椒筒 ?           時報  2023  9786263538610      NaN  NaN   \n",
              "1          [?]金草? 著 ;胡椒筒 ?  廣東花城出版社有限公司  2023  9787536099760      NaN  NaN   \n",
              "2  ハンユンソブ 著 ;キムジナ ? ;?華順 ?          影書房  2024  9784877144999      NaN  NaN   \n",
              "3        チェ·ウニョン 著 ;古川綾子 ?         ?紀書房  2023  9784750517803      NaN  NaN   \n",
              "4          キム·ボラ 著 ;根本理? ?       オ?クラ出版  2023  9784775530115      NaN  NaN   \n",
              "\n",
              "     권 주제분류번호  도서권수  대출건수        등록일자  \n",
              "0  NaN  813.7     1     0  2024-12-19  \n",
              "1  NaN  813.7     1     0  2024-12-19  \n",
              "2  NaN  813.8     1     0  2024-12-19  \n",
              "3  NaN  813.7     1     0  2024-12-19  \n",
              "4  NaN    812     1     0  2024-12-19  "
            ],
            "text/html": [
              "\n",
              "  <div id=\"df-9bd91432-fa7e-47fd-a65d-c7e3d05231ba\" class=\"colab-df-container\">\n",
              "    <div>\n",
              "<style scoped>\n",
              "    .dataframe tbody tr th:only-of-type {\n",
              "        vertical-align: middle;\n",
              "    }\n",
              "\n",
              "    .dataframe tbody tr th {\n",
              "        vertical-align: top;\n",
              "    }\n",
              "\n",
              "    .dataframe thead th {\n",
              "        text-align: right;\n",
              "    }\n",
              "</style>\n",
              "<table border=\"1\" class=\"dataframe\">\n",
              "  <thead>\n",
              "    <tr style=\"text-align: right;\">\n",
              "      <th></th>\n",
              "      <th>Unnamed: 0</th>\n",
              "      <th>번호</th>\n",
              "      <th>도서명</th>\n",
              "      <th>저자</th>\n",
              "      <th>출판사</th>\n",
              "      <th>발행년도</th>\n",
              "      <th>ISBN</th>\n",
              "      <th>세트 ISBN</th>\n",
              "      <th>부가기호</th>\n",
              "      <th>권</th>\n",
              "      <th>주제분류번호</th>\n",
              "      <th>도서권수</th>\n",
              "      <th>대출건수</th>\n",
              "      <th>등록일자</th>\n",
              "    </tr>\n",
              "  </thead>\n",
              "  <tbody>\n",
              "    <tr>\n",
              "      <th>0</th>\n",
              "      <td>0</td>\n",
              "      <td>1</td>\n",
              "      <td>一千?? =a thousand blue</td>\n",
              "      <td>[?]千先? 著  ;胡椒筒 ?</td>\n",
              "      <td>時報</td>\n",
              "      <td>2023</td>\n",
              "      <td>9786263538610</td>\n",
              "      <td>NaN</td>\n",
              "      <td>NaN</td>\n",
              "      <td>NaN</td>\n",
              "      <td>813.7</td>\n",
              "      <td>1</td>\n",
              "      <td>0</td>\n",
              "      <td>2024-12-19</td>\n",
              "    </tr>\n",
              "    <tr>\n",
              "      <th>1</th>\n",
              "      <td>1</td>\n",
              "      <td>2</td>\n",
              "      <td>地球??的?室</td>\n",
              "      <td>[?]金草? 著 ;胡椒筒 ?</td>\n",
              "      <td>廣東花城出版社有限公司</td>\n",
              "      <td>2023</td>\n",
              "      <td>9787536099760</td>\n",
              "      <td>NaN</td>\n",
              "      <td>NaN</td>\n",
              "      <td>NaN</td>\n",
              "      <td>813.7</td>\n",
              "      <td>1</td>\n",
              "      <td>0</td>\n",
              "      <td>2024-12-19</td>\n",
              "    </tr>\n",
              "    <tr>\n",
              "      <th>2</th>\n",
              "      <td>2</td>\n",
              "      <td>3</td>\n",
              "      <td>ボンジュ?ル,トゥ?ル</td>\n",
              "      <td>ハンユンソブ 著 ;キムジナ ? ;?華順 ?</td>\n",
              "      <td>影書房</td>\n",
              "      <td>2024</td>\n",
              "      <td>9784877144999</td>\n",
              "      <td>NaN</td>\n",
              "      <td>NaN</td>\n",
              "      <td>NaN</td>\n",
              "      <td>813.8</td>\n",
              "      <td>1</td>\n",
              "      <td>0</td>\n",
              "      <td>2024-12-19</td>\n",
              "    </tr>\n",
              "    <tr>\n",
              "      <th>3</th>\n",
              "      <td>3</td>\n",
              "      <td>4</td>\n",
              "      <td>明るい夜</td>\n",
              "      <td>チェ·ウニョン 著 ;古川綾子 ?</td>\n",
              "      <td>?紀書房</td>\n",
              "      <td>2023</td>\n",
              "      <td>9784750517803</td>\n",
              "      <td>NaN</td>\n",
              "      <td>NaN</td>\n",
              "      <td>NaN</td>\n",
              "      <td>813.7</td>\n",
              "      <td>1</td>\n",
              "      <td>0</td>\n",
              "      <td>2024-12-19</td>\n",
              "    </tr>\n",
              "    <tr>\n",
              "      <th>4</th>\n",
              "      <td>4</td>\n",
              "      <td>5</td>\n",
              "      <td>はちどり =House of Hummingbird :1994年、閉ざされることのない記憶...</td>\n",
              "      <td>キム·ボラ 著 ;根本理? ?</td>\n",
              "      <td>オ?クラ出版</td>\n",
              "      <td>2023</td>\n",
              "      <td>9784775530115</td>\n",
              "      <td>NaN</td>\n",
              "      <td>NaN</td>\n",
              "      <td>NaN</td>\n",
              "      <td>812</td>\n",
              "      <td>1</td>\n",
              "      <td>0</td>\n",
              "      <td>2024-12-19</td>\n",
              "    </tr>\n",
              "  </tbody>\n",
              "</table>\n",
              "</div>\n",
              "    <div class=\"colab-df-buttons\">\n",
              "\n",
              "  <div class=\"colab-df-container\">\n",
              "    <button class=\"colab-df-convert\" onclick=\"convertToInteractive('df-9bd91432-fa7e-47fd-a65d-c7e3d05231ba')\"\n",
              "            title=\"Convert this dataframe to an interactive table.\"\n",
              "            style=\"display:none;\">\n",
              "\n",
              "  <svg xmlns=\"http://www.w3.org/2000/svg\" height=\"24px\" viewBox=\"0 -960 960 960\">\n",
              "    <path d=\"M120-120v-720h720v720H120Zm60-500h600v-160H180v160Zm220 220h160v-160H400v160Zm0 220h160v-160H400v160ZM180-400h160v-160H180v160Zm440 0h160v-160H620v160ZM180-180h160v-160H180v160Zm440 0h160v-160H620v160Z\"/>\n",
              "  </svg>\n",
              "    </button>\n",
              "\n",
              "  <style>\n",
              "    .colab-df-container {\n",
              "      display:flex;\n",
              "      gap: 12px;\n",
              "    }\n",
              "\n",
              "    .colab-df-convert {\n",
              "      background-color: #E8F0FE;\n",
              "      border: none;\n",
              "      border-radius: 50%;\n",
              "      cursor: pointer;\n",
              "      display: none;\n",
              "      fill: #1967D2;\n",
              "      height: 32px;\n",
              "      padding: 0 0 0 0;\n",
              "      width: 32px;\n",
              "    }\n",
              "\n",
              "    .colab-df-convert:hover {\n",
              "      background-color: #E2EBFA;\n",
              "      box-shadow: 0px 1px 2px rgba(60, 64, 67, 0.3), 0px 1px 3px 1px rgba(60, 64, 67, 0.15);\n",
              "      fill: #174EA6;\n",
              "    }\n",
              "\n",
              "    .colab-df-buttons div {\n",
              "      margin-bottom: 4px;\n",
              "    }\n",
              "\n",
              "    [theme=dark] .colab-df-convert {\n",
              "      background-color: #3B4455;\n",
              "      fill: #D2E3FC;\n",
              "    }\n",
              "\n",
              "    [theme=dark] .colab-df-convert:hover {\n",
              "      background-color: #434B5C;\n",
              "      box-shadow: 0px 1px 3px 1px rgba(0, 0, 0, 0.15);\n",
              "      filter: drop-shadow(0px 1px 2px rgba(0, 0, 0, 0.3));\n",
              "      fill: #FFFFFF;\n",
              "    }\n",
              "  </style>\n",
              "\n",
              "    <script>\n",
              "      const buttonEl =\n",
              "        document.querySelector('#df-9bd91432-fa7e-47fd-a65d-c7e3d05231ba button.colab-df-convert');\n",
              "      buttonEl.style.display =\n",
              "        google.colab.kernel.accessAllowed ? 'block' : 'none';\n",
              "\n",
              "      async function convertToInteractive(key) {\n",
              "        const element = document.querySelector('#df-9bd91432-fa7e-47fd-a65d-c7e3d05231ba');\n",
              "        const dataTable =\n",
              "          await google.colab.kernel.invokeFunction('convertToInteractive',\n",
              "                                                    [key], {});\n",
              "        if (!dataTable) return;\n",
              "\n",
              "        const docLinkHtml = 'Like what you see? Visit the ' +\n",
              "          '<a target=\"_blank\" href=https://colab.research.google.com/notebooks/data_table.ipynb>data table notebook</a>'\n",
              "          + ' to learn more about interactive tables.';\n",
              "        element.innerHTML = '';\n",
              "        dataTable['output_type'] = 'display_data';\n",
              "        await google.colab.output.renderOutput(dataTable, element);\n",
              "        const docLink = document.createElement('div');\n",
              "        docLink.innerHTML = docLinkHtml;\n",
              "        element.appendChild(docLink);\n",
              "      }\n",
              "    </script>\n",
              "  </div>\n",
              "\n",
              "\n",
              "<div id=\"df-921a89ba-2415-46b5-8d06-e76dcfa2b303\">\n",
              "  <button class=\"colab-df-quickchart\" onclick=\"quickchart('df-921a89ba-2415-46b5-8d06-e76dcfa2b303')\"\n",
              "            title=\"Suggest charts\"\n",
              "            style=\"display:none;\">\n",
              "\n",
              "<svg xmlns=\"http://www.w3.org/2000/svg\" height=\"24px\"viewBox=\"0 0 24 24\"\n",
              "     width=\"24px\">\n",
              "    <g>\n",
              "        <path d=\"M19 3H5c-1.1 0-2 .9-2 2v14c0 1.1.9 2 2 2h14c1.1 0 2-.9 2-2V5c0-1.1-.9-2-2-2zM9 17H7v-7h2v7zm4 0h-2V7h2v10zm4 0h-2v-4h2v4z\"/>\n",
              "    </g>\n",
              "</svg>\n",
              "  </button>\n",
              "\n",
              "<style>\n",
              "  .colab-df-quickchart {\n",
              "      --bg-color: #E8F0FE;\n",
              "      --fill-color: #1967D2;\n",
              "      --hover-bg-color: #E2EBFA;\n",
              "      --hover-fill-color: #174EA6;\n",
              "      --disabled-fill-color: #AAA;\n",
              "      --disabled-bg-color: #DDD;\n",
              "  }\n",
              "\n",
              "  [theme=dark] .colab-df-quickchart {\n",
              "      --bg-color: #3B4455;\n",
              "      --fill-color: #D2E3FC;\n",
              "      --hover-bg-color: #434B5C;\n",
              "      --hover-fill-color: #FFFFFF;\n",
              "      --disabled-bg-color: #3B4455;\n",
              "      --disabled-fill-color: #666;\n",
              "  }\n",
              "\n",
              "  .colab-df-quickchart {\n",
              "    background-color: var(--bg-color);\n",
              "    border: none;\n",
              "    border-radius: 50%;\n",
              "    cursor: pointer;\n",
              "    display: none;\n",
              "    fill: var(--fill-color);\n",
              "    height: 32px;\n",
              "    padding: 0;\n",
              "    width: 32px;\n",
              "  }\n",
              "\n",
              "  .colab-df-quickchart:hover {\n",
              "    background-color: var(--hover-bg-color);\n",
              "    box-shadow: 0 1px 2px rgba(60, 64, 67, 0.3), 0 1px 3px 1px rgba(60, 64, 67, 0.15);\n",
              "    fill: var(--button-hover-fill-color);\n",
              "  }\n",
              "\n",
              "  .colab-df-quickchart-complete:disabled,\n",
              "  .colab-df-quickchart-complete:disabled:hover {\n",
              "    background-color: var(--disabled-bg-color);\n",
              "    fill: var(--disabled-fill-color);\n",
              "    box-shadow: none;\n",
              "  }\n",
              "\n",
              "  .colab-df-spinner {\n",
              "    border: 2px solid var(--fill-color);\n",
              "    border-color: transparent;\n",
              "    border-bottom-color: var(--fill-color);\n",
              "    animation:\n",
              "      spin 1s steps(1) infinite;\n",
              "  }\n",
              "\n",
              "  @keyframes spin {\n",
              "    0% {\n",
              "      border-color: transparent;\n",
              "      border-bottom-color: var(--fill-color);\n",
              "      border-left-color: var(--fill-color);\n",
              "    }\n",
              "    20% {\n",
              "      border-color: transparent;\n",
              "      border-left-color: var(--fill-color);\n",
              "      border-top-color: var(--fill-color);\n",
              "    }\n",
              "    30% {\n",
              "      border-color: transparent;\n",
              "      border-left-color: var(--fill-color);\n",
              "      border-top-color: var(--fill-color);\n",
              "      border-right-color: var(--fill-color);\n",
              "    }\n",
              "    40% {\n",
              "      border-color: transparent;\n",
              "      border-right-color: var(--fill-color);\n",
              "      border-top-color: var(--fill-color);\n",
              "    }\n",
              "    60% {\n",
              "      border-color: transparent;\n",
              "      border-right-color: var(--fill-color);\n",
              "    }\n",
              "    80% {\n",
              "      border-color: transparent;\n",
              "      border-right-color: var(--fill-color);\n",
              "      border-bottom-color: var(--fill-color);\n",
              "    }\n",
              "    90% {\n",
              "      border-color: transparent;\n",
              "      border-bottom-color: var(--fill-color);\n",
              "    }\n",
              "  }\n",
              "</style>\n",
              "\n",
              "  <script>\n",
              "    async function quickchart(key) {\n",
              "      const quickchartButtonEl =\n",
              "        document.querySelector('#' + key + ' button');\n",
              "      quickchartButtonEl.disabled = true;  // To prevent multiple clicks.\n",
              "      quickchartButtonEl.classList.add('colab-df-spinner');\n",
              "      try {\n",
              "        const charts = await google.colab.kernel.invokeFunction(\n",
              "            'suggestCharts', [key], {});\n",
              "      } catch (error) {\n",
              "        console.error('Error during call to suggestCharts:', error);\n",
              "      }\n",
              "      quickchartButtonEl.classList.remove('colab-df-spinner');\n",
              "      quickchartButtonEl.classList.add('colab-df-quickchart-complete');\n",
              "    }\n",
              "    (() => {\n",
              "      let quickchartButtonEl =\n",
              "        document.querySelector('#df-921a89ba-2415-46b5-8d06-e76dcfa2b303 button');\n",
              "      quickchartButtonEl.style.display =\n",
              "        google.colab.kernel.accessAllowed ? 'block' : 'none';\n",
              "    })();\n",
              "  </script>\n",
              "</div>\n",
              "\n",
              "    </div>\n",
              "  </div>\n"
            ],
            "application/vnd.google.colaboratory.intrinsic+json": {
              "type": "dataframe",
              "variable_name": "ns_book4"
            }
          },
          "metadata": {},
          "execution_count": 45
        }
      ]
    },
    {
      "cell_type": "markdown",
      "source": [
        "### 데이터프레임 정보 요약 확인"
      ],
      "metadata": {
        "id": "WmJJH4BXRmnZ"
      }
    },
    {
      "cell_type": "markdown",
      "source": [
        "- **info() 메서드**는 데이터프레임의 정보를 요약해서 출력한다."
      ],
      "metadata": {
        "id": "1NQJWjieSEN8"
      }
    },
    {
      "cell_type": "code",
      "source": [
        "ns_book4.info()"
      ],
      "metadata": {
        "id": "m15ccxvLSOZZ"
      },
      "execution_count": null,
      "outputs": []
    },
    {
      "cell_type": "code",
      "source": [
        "ns_book4.info(memory_usage='deep')"
      ],
      "metadata": {
        "id": "KUzylrC0SQ3r"
      },
      "execution_count": null,
      "outputs": []
    },
    {
      "cell_type": "markdown",
      "source": [
        "### 누락된 값 처리"
      ],
      "metadata": {
        "id": "jMV4UmZcSrkJ"
      }
    },
    {
      "cell_type": "markdown",
      "source": [
        "- **isna() 메서드**는 값이 누락된 행을 확인할 수 있다.\n",
        "- 불리언 배열로 반환한다.\n",
        "- 판다스 데이터프레임에서는 정수를 저장하는 열에 파이썬의 None을 입력하면 누락된 값으로 인식한다.\n",
        "- 판다스는 NaN을 특별한 실수 값으로 저장한다.<br>\n",
        "\\> 원래 데이터 타입이 int64였던 '도서권수' 열이 NaN을 표시하기 위해 float64로 자동 변환된다.\n",
        "- 데이터 타입을 지정할 때 **astype() 메서드**를 사용한다.\n",
        "- astype() 메서드는 열과 바꾸려는 데이터 타입을 파이썬 딕셔너리로 전달한다.<br>\n",
        "또한 기본적으로 새로운 데이터프레임을 반환한다.\n",
        "- 데이터 타입에 상관없이 데이터프레임 셀 값을 NaN으로 표시하려면 넘파이의 np.nan을 사용하면 된다."
      ],
      "metadata": {
        "id": "yHy8xArpSxMR"
      }
    },
    {
      "cell_type": "code",
      "source": [
        "ns_book4.isna().sum()"
      ],
      "metadata": {
        "id": "Sb-lTDOwTRuX"
      },
      "execution_count": null,
      "outputs": []
    },
    {
      "cell_type": "code",
      "source": [
        "ns_book4.loc[0, '도서권수'] = None\n",
        "ns_book4['도서권수'].isna().sum()"
      ],
      "metadata": {
        "id": "rnHnb8D9TUtZ"
      },
      "execution_count": null,
      "outputs": []
    },
    {
      "cell_type": "code",
      "source": [
        "ns_book4.head(2)"
      ],
      "metadata": {
        "id": "RdJAuuOxTvOg"
      },
      "execution_count": null,
      "outputs": []
    },
    {
      "cell_type": "code",
      "source": [
        "ns_book4.loc[0, '도서권수'] = 1\n",
        "ns_book4 = ns_book4.astype({'도서권수': 'int32', '대출건수': 'int32'})\n",
        "ns_book4.head(2)"
      ],
      "metadata": {
        "id": "Nt96dDz6TyUw"
      },
      "execution_count": null,
      "outputs": []
    },
    {
      "cell_type": "code",
      "source": [
        "ns_book4.loc[0, '부가기호'] = None\n",
        "ns_book4.head(2)"
      ],
      "metadata": {
        "id": "WoxXLAyqUxzP"
      },
      "execution_count": null,
      "outputs": []
    },
    {
      "cell_type": "code",
      "source": [
        "import numpy as np\n",
        "ns_book4.loc[0, '부가기호'] = np.nan\n",
        "ns_book4.head(2)"
      ],
      "metadata": {
        "id": "5gD_OsdpVI9G"
      },
      "execution_count": null,
      "outputs": []
    },
    {
      "cell_type": "code",
      "source": [
        "set_isbn_na_rows = ns_book4['세트 ISBN'].isna() # 누락된 값을 찾아 불리언 배열로 반환한다.\n",
        "ns_book4.loc[set_isbn_na_rows, '세트 ISBN'] = ''  # 누락된 값을 빈 문자열로 바꾼다.\n",
        "ns_book4['세트 ISBN'].isna().sum()  # 누락된 값이 몇 개인지 센다."
      ],
      "metadata": {
        "id": "X-SoNkCmWZD_"
      },
      "execution_count": null,
      "outputs": []
    },
    {
      "cell_type": "code",
      "source": [
        "ns_book4.fillna('없음').isna().sum()"
      ],
      "metadata": {
        "id": "Z0Sbnl87W3Np"
      },
      "execution_count": null,
      "outputs": []
    },
    {
      "cell_type": "code",
      "source": [
        "ns_book4['부가기호'].fillna('없음').isna().sum()"
      ],
      "metadata": {
        "id": "A1UI0RKTXh-G"
      },
      "execution_count": null,
      "outputs": []
    },
    {
      "cell_type": "code",
      "source": [
        "ns_book4.fillna({'부가기호': '없음'}).isna().sum()"
      ],
      "metadata": {
        "id": "B4tySuJoXrke"
      },
      "execution_count": null,
      "outputs": []
    },
    {
      "cell_type": "code",
      "source": [
        "ns_book4.replace(np.nan, '없음').isna().sum()"
      ],
      "metadata": {
        "id": "px_uoNCIXz-u"
      },
      "execution_count": null,
      "outputs": []
    },
    {
      "cell_type": "code",
      "source": [
        "ns_book4.replace([np.nan, '2023'], ['없음', '23']).head(2)"
      ],
      "metadata": {
        "id": "_qo0WekwYKgK"
      },
      "execution_count": null,
      "outputs": []
    },
    {
      "cell_type": "code",
      "source": [
        "ns_book4.replace({np.nan: '없음', '2023': '23'}).head(2)"
      ],
      "metadata": {
        "id": "YBtewIVeYVCh"
      },
      "execution_count": null,
      "outputs": []
    },
    {
      "cell_type": "code",
      "source": [
        "ns_book4.replace({'부가기호': np.nan}, '없음').head(2)"
      ],
      "metadata": {
        "id": "bWE-SZCHYitZ"
      },
      "execution_count": null,
      "outputs": []
    },
    {
      "cell_type": "code",
      "source": [
        "ns_book4.replace({'부가기호': {np.nan: '없음'}, '발행년도': {'2023': '23'}}).head(2)"
      ],
      "metadata": {
        "id": "I_aev_xJYwQT"
      },
      "execution_count": null,
      "outputs": []
    },
    {
      "cell_type": "markdown",
      "source": [
        "- **loc() 메서드**를 사용하면 누락된 값을 원하는 값으로 바꿀 수 있다.\n",
        "- 더 편리한 방법은 fillna() 메서드를 사용하면 된다.\n",
        "- **fillna() 메서드**에 원하는 값을 전달하면 NaN을 대체할 수 있다.\n",
        "- **replac() 메서드**는 NaN을 포함한 어떤 값도 바꿀 수 있다."
      ],
      "metadata": {
        "id": "rtyqhRIYVfQW"
      }
    },
    {
      "cell_type": "markdown",
      "source": [
        "### 정규 표현식"
      ],
      "metadata": {
        "id": "rOyhvavPZAA7"
      }
    },
    {
      "cell_type": "markdown",
      "source": [
        "- **정규 표현식** 또는 줄여서 **정규식**은 문자열 패턴을 찾아서 대체하기 위한 규칙의 모음이다.\n",
        "- 정규식 앞에 붙이는 **r 문자**는 파이썬에서 정규식을 다른 문자열과 구분하기 위해 접두사 처럼 붙인다.\n",
        "- 정규식이 반복될 경우 일일이 쓰는 대신 **중괄호**를 사용하여 개수를 지정할 수 있다.\n",
        "- 어떤 문자에도 대응하는 정규식 문자는 **마침표(.)**다.\n",
        "- **\\*문자**를 사용하여 0개 이상 반복된다고 표시할 수 있다.\n",
        "- 정규식에서 일반 문자라고 인식하게 하려면 **역슬래시(\\)**를 앞에 붙여야 한다."
      ],
      "metadata": {
        "id": "uKpK1p9BZLEz"
      }
    },
    {
      "cell_type": "code",
      "source": [
        "ns_book4.replace({'발행년도': {'2023': '23'}})[140:142]"
      ],
      "metadata": {
        "id": "ykmC1hM-ZVeJ"
      },
      "execution_count": null,
      "outputs": []
    },
    {
      "cell_type": "markdown",
      "source": [
        "- 정규식애서 숫자를 나타내는 기호는 \\d다.\n",
        "- 네 자리는 \\d\\d\\d\\d다.\n",
        "- 뒤의 두 자리만 하나의 그룹으로 묶을 때는 \\d\\d(\\d\\d)처럼 쓴다."
      ],
      "metadata": {
        "id": "L_GIqRmzZeAo"
      }
    },
    {
      "cell_type": "code",
      "source": [
        "ns_book4.replace({'발행년도': {r'\\d\\d(\\d\\d)': r'\\1'}}, regex=True)[140:142] # r'\\1' -> 패턴 안에 있는 첫 번째 그룹으로 바꾼다."
      ],
      "metadata": {
        "id": "IowyOjG0abXn"
      },
      "execution_count": null,
      "outputs": []
    },
    {
      "cell_type": "code",
      "source": [
        "ns_book4.replace({'발행년도': {r'\\d{2}(\\d{2})': r'\\1'}}, regex=True)[140:142]"
      ],
      "metadata": {
        "id": "nkR5EzfDawfd"
      },
      "execution_count": null,
      "outputs": []
    },
    {
      "cell_type": "code",
      "source": [
        "ns_book4.replace({'저자': {r'(.*)지은이\\:(.*)\\s\\;일러스트\\:': r'\\1\\2'}, '발행년도': {r'\\d{2}(\\d{2})': r'\\1'}}, regex=True)[140:142]"
      ],
      "metadata": {
        "id": "lioNkd44bWEt"
      },
      "execution_count": null,
      "outputs": []
    },
    {
      "cell_type": "markdown",
      "source": [
        "### 잘못된 값 바꾸기"
      ],
      "metadata": {
        "id": "_Ie1k_igcgDy"
      }
    },
    {
      "cell_type": "code",
      "source": [
        "ns_book4.astype({'발행년도': 'int32'})"
      ],
      "metadata": {
        "id": "pvvTt7j7d5nh"
      },
      "execution_count": null,
      "outputs": []
    },
    {
      "cell_type": "markdown",
      "source": [
        "- '2016(2024년 12쇄)'라는 연도를  변환할 수 없어 오류가 발생했다.\n",
        "- 판다스 시리즈 객체는 str 속성 아래 다양한 문자열 처리 함수를 제공한다.\n",
        "- **contains()메서드**는 시리즈나 인덱스에서 문자열 패턴을 포함하고 있는지 검사한다."
      ],
      "metadata": {
        "id": "lC3hn3nod99K"
      }
    },
    {
      "cell_type": "code",
      "source": [
        "ns_book4['발행년도'].str.contains('2016').sum()"
      ],
      "metadata": {
        "id": "1O4lvRZWefb8"
      },
      "execution_count": null,
      "outputs": []
    },
    {
      "cell_type": "code",
      "source": [
        "invalid_number=ns_book4['발행년도'].str.contains('\\D', na=True)\n",
        "print(invalid_number.sum())  # 숫자 이외의 문자가 들어간 행의 개수를 출력\n",
        "ns_book4[invalid_number].head()"
      ],
      "metadata": {
        "id": "zlqGUNJdepBA"
      },
      "execution_count": null,
      "outputs": []
    },
    {
      "cell_type": "code",
      "source": [
        "ns_book5 = ns_book4.replace({'발행년도':r'.*(\\d{4}).*'}, r'\\1', regex=True)\n",
        "ns_book5[invalid_number].head()"
      ],
      "metadata": {
        "id": "K2KXitvWWjHD"
      },
      "execution_count": null,
      "outputs": []
    },
    {
      "cell_type": "code",
      "source": [
        "unkown_year = ns_book5['발행년도'].str.contains('\\D', na=True)\n",
        "print(unkown_year.sum())\n",
        "ns_book5[unkown_year].head()"
      ],
      "metadata": {
        "id": "fu4nsc7YXC5s"
      },
      "execution_count": null,
      "outputs": []
    },
    {
      "cell_type": "code",
      "source": [
        "ns_book5.loc[unkown_year, '발행년도'] = '-1'\n",
        "ns_book5 = ns_book5.astype({'발행년도': 'int32'})"
      ],
      "metadata": {
        "id": "3swapKwDXYko"
      },
      "execution_count": null,
      "outputs": []
    },
    {
      "cell_type": "markdown",
      "source": [
        "|메서드|부등호|내용|\n",
        "|-:-|-:-|-:-|\n",
        "|gt()|>|지정된 값보다 큰 값을 검사한다.|\n",
        "|ge()|>=|지정된 값보다 크거나 같은 값을 검사한다.|\n",
        "|lt()|<|지정된 값보다 작은 값을 검사한다.|\n",
        "|le()|<=|지정된 값보다 작거나 같은 값을 검사한다.|\n",
        "|eq()|==|지정된 값과 같은 값을 검사한다.|\n",
        "|ne()|!=|지정된 값과 같지 않은 값을 검사한다.|"
      ],
      "metadata": {
        "id": "IASnnOwfXtDH"
      }
    },
    {
      "cell_type": "code",
      "source": [
        "ns_book5['발행년도'].gt(4000).sum() # 4000보다 큰 값의 개수를 센다."
      ],
      "metadata": {
        "id": "cuPq_JwIX2XP"
      },
      "execution_count": null,
      "outputs": []
    },
    {
      "cell_type": "code",
      "source": [
        "dangun_yy_rows = ns_book5['발행년도'].gt(4000)  # 4000보다 큰 값을 찾는다.\n",
        "ns_book5.loc[dangun_yy_rows, '발행년도'] = ns_book5.loc[dangun_yy_rows, '발행년도'] - 2333  # 찾은 값에서 2333을 빼서 서기로 바꾼다.\n",
        "dangun_year = ns_book5['발행년도'].gt(4000)  # 다시 4000보다 큰 값을 찾는다.\n",
        "print(dangun_year.sum())\n",
        "ns_book5[dangun_year].head()"
      ],
      "metadata": {
        "id": "cg5joFakX8Tn"
      },
      "execution_count": null,
      "outputs": []
    },
    {
      "cell_type": "code",
      "source": [
        "ns_book5.loc[dangun_year, '발행년도'] = -1"
      ],
      "metadata": {
        "id": "7JgV11sXZUt9"
      },
      "execution_count": null,
      "outputs": []
    },
    {
      "cell_type": "code",
      "source": [
        "old_books = ns_book5['발행년도'].gt(0) & ns_book5['발행년도'].lt(1900)\n",
        "ns_book5[old_books]"
      ],
      "metadata": {
        "id": "5bf1FO8jZfHs"
      },
      "execution_count": null,
      "outputs": []
    },
    {
      "cell_type": "code",
      "source": [
        "ns_book5.loc[old_books, '발행년도'] = -1\n",
        "ns_book5['발행년도'].eq(-1).sum() # -1과 같은 값이 몇 개인지 센다."
      ],
      "metadata": {
        "id": "U-kfN_jxZu0l"
      },
      "execution_count": null,
      "outputs": []
    },
    {
      "cell_type": "markdown",
      "source": [
        "### 누락된 정보 채우기"
      ],
      "metadata": {
        "id": "SZGjMy38Z9ha"
      }
    },
    {
      "cell_type": "code",
      "source": [
        "na_rows = ns_book5['도서명'].isna()  | ns_book5['저자'].isna() | ns_book5['출판사'].isna() | ns_book5['발행년도'].eq(-1)\n",
        "print(na_rows.sum())\n",
        "ns_book5[na_rows]"
      ],
      "metadata": {
        "id": "0DxpGgfuaAaI"
      },
      "execution_count": null,
      "outputs": []
    },
    {
      "cell_type": "code",
      "source": [
        "import requests\n",
        "from bs4 import BeautifulSoup"
      ],
      "metadata": {
        "id": "uEFl1Zw6aYT5"
      },
      "execution_count": null,
      "outputs": []
    },
    {
      "cell_type": "code",
      "source": [
        "def get_book_title(isbn):\n",
        "  # Yes24 도서 검색 페이지 URL\n",
        "  url = 'https://www.yes24.com/Product/Search?domain=BOOK&query={}'\n",
        "\n",
        "  # URL에 ISBN을 넣어 HTML을 가져온다.\n",
        "  r = requests.get(url.format(isbn))\n",
        "  soup = BeautifulSoup(r.text, 'html.parser') # HTML 파싱\n",
        "\n",
        "  # 클래스 이름이 'gd_name인 <a> 태그의 텍스트를 가져온다\n",
        "  title = soup.find('a', attrs={'class':'gd_name'}).get_text()\n",
        "  return title"
      ],
      "metadata": {
        "id": "PHm-EB-uar1R"
      },
      "execution_count": null,
      "outputs": []
    },
    {
      "cell_type": "code",
      "source": [
        "get_book_title(9791160711899)"
      ],
      "metadata": {
        "id": "6VCR1zCFbojS"
      },
      "execution_count": null,
      "outputs": []
    },
    {
      "cell_type": "code",
      "source": [
        "import re\n",
        "\n",
        "def get_book_info(row):\n",
        "  title = row['도서명']\n",
        "  author = row['저자']\n",
        "  pub = row['출판사']\n",
        "  year = ['발행년도']\n",
        "\n",
        "  # Yes24 도서 검색 페이지 URL\n",
        "  url = 'https://www.yes24.com/Product/Search?domain=BOOK&query={}'\n",
        "\n",
        "  # URL에 ISBN을 넣어 HTML을 가져온다.\n",
        "  r= requests.get(url.format(row['ISBN']))\n",
        "  soup = BeautifulSoup(r.text, 'html.parser') # HTML 파싱\n",
        "  try:\n",
        "    if pd.isna(title):\n",
        "\n",
        "      # 클래스 이름이 'gd_name'인 <a> 태그의 텍스트를 가져온다.\n",
        "      title = soup.find('a', attrs={'class':'gd_name'}).get_text()\n",
        "\n",
        "  except AttributeError:\n",
        "    pass\n",
        "\n",
        "  try:\n",
        "    if pd.isna(author):\n",
        "\n",
        "      # 클래스 이름이 'info_auth'인 <span> 태그 아래 <a> 태그의 텍스트를 가져온다.\n",
        "      authors = soup.find('span', attrs={'class':'info_auth'}).find_all('a')\n",
        "      author_list = [auth.get_text() for auth in authors]\n",
        "      author = ','.join(author_list)\n",
        "\n",
        "  except AttributeError:\n",
        "    pass\n",
        "\n",
        "  try:\n",
        "    if pd.isna(pub):\n",
        "\n",
        "      # 클래스 이름이 'info_pub' 인 <span> 태그 아래 <a> 태그의 텍스트를 가져온다.\n",
        "      pub = soup.find('span', attrs={'class':'info_pub'}).find('a').get_text()\n",
        "\n",
        "  except AttributeError:\n",
        "    pass\n",
        "\n",
        "  try:\n",
        "    if year == -1:\n",
        "      #클래스 이름이 'info_date' 인 <span> 태그 아래 텍스트를 가져온다.\n",
        "      year_str = soup.find('span', attrs={'class':'info_date'}).get_text()\n",
        "\n",
        "      # 정규 표현식으로 찾은 값 중에 첫 번째 것만 사용한다.\n",
        "      year = re.findall(r'\\d{4}', year_str)[0]\n",
        "\n",
        "  except AttributeError:\n",
        "    pass\n",
        "\n",
        "  return title, author, pub, year"
      ],
      "metadata": {
        "id": "1W_PTVaKbWjC"
      },
      "execution_count": null,
      "outputs": []
    },
    {
      "cell_type": "code",
      "source": [
        "update_sample = ns_book5[na_rows].head().apply(get_book_info, axis=1, result_type = 'expand')\n",
        "update_sample"
      ],
      "metadata": {
        "colab": {
          "base_uri": "https://localhost:8080/",
          "height": 204
        },
        "id": "ZC_fm4vLfVU8",
        "outputId": "6704259c-49c5-4e32-983b-56960aea76a8"
      },
      "execution_count": 47,
      "outputs": [
        {
          "output_type": "execute_result",
          "data": {
            "text/plain": [
              "                   0                       1   2       3\n",
              "7              小さな町            ソン?ボミ ;橋本智保 ? NaN  [발행년도]\n",
              "20              ?人家   [?]?元平 著 ;???,?君峰 [共]? NaN  [발행년도]\n",
              "28            空間の未?           兪炫準 著 ;オスンヨン ? NaN  [발행년도]\n",
              "31       朝鮮時代ソウル都市史    高東煥 著 ;野崎充彦,金子祐樹[共] ? NaN  [발행년도]\n",
              "49  (影印) 韓國古典叢刊 :傳記類             韓國古典飜譯院 [편] NaN  [발행년도]"
            ],
            "text/html": [
              "\n",
              "  <div id=\"df-97f955f1-64a1-4a65-a5b3-dccab416e110\" class=\"colab-df-container\">\n",
              "    <div>\n",
              "<style scoped>\n",
              "    .dataframe tbody tr th:only-of-type {\n",
              "        vertical-align: middle;\n",
              "    }\n",
              "\n",
              "    .dataframe tbody tr th {\n",
              "        vertical-align: top;\n",
              "    }\n",
              "\n",
              "    .dataframe thead th {\n",
              "        text-align: right;\n",
              "    }\n",
              "</style>\n",
              "<table border=\"1\" class=\"dataframe\">\n",
              "  <thead>\n",
              "    <tr style=\"text-align: right;\">\n",
              "      <th></th>\n",
              "      <th>0</th>\n",
              "      <th>1</th>\n",
              "      <th>2</th>\n",
              "      <th>3</th>\n",
              "    </tr>\n",
              "  </thead>\n",
              "  <tbody>\n",
              "    <tr>\n",
              "      <th>7</th>\n",
              "      <td>小さな町</td>\n",
              "      <td>ソン?ボミ ;橋本智保 ?</td>\n",
              "      <td>NaN</td>\n",
              "      <td>[발행년도]</td>\n",
              "    </tr>\n",
              "    <tr>\n",
              "      <th>20</th>\n",
              "      <td>?人家</td>\n",
              "      <td>[?]?元平 著 ;???,?君峰 [共]?</td>\n",
              "      <td>NaN</td>\n",
              "      <td>[발행년도]</td>\n",
              "    </tr>\n",
              "    <tr>\n",
              "      <th>28</th>\n",
              "      <td>空間の未?</td>\n",
              "      <td>兪炫準 著 ;オスンヨン ?</td>\n",
              "      <td>NaN</td>\n",
              "      <td>[발행년도]</td>\n",
              "    </tr>\n",
              "    <tr>\n",
              "      <th>31</th>\n",
              "      <td>朝鮮時代ソウル都市史</td>\n",
              "      <td>高東煥 著 ;野崎充彦,金子祐樹[共] ?</td>\n",
              "      <td>NaN</td>\n",
              "      <td>[발행년도]</td>\n",
              "    </tr>\n",
              "    <tr>\n",
              "      <th>49</th>\n",
              "      <td>(影印) 韓國古典叢刊 :傳記類</td>\n",
              "      <td>韓國古典飜譯院 [편]</td>\n",
              "      <td>NaN</td>\n",
              "      <td>[발행년도]</td>\n",
              "    </tr>\n",
              "  </tbody>\n",
              "</table>\n",
              "</div>\n",
              "    <div class=\"colab-df-buttons\">\n",
              "\n",
              "  <div class=\"colab-df-container\">\n",
              "    <button class=\"colab-df-convert\" onclick=\"convertToInteractive('df-97f955f1-64a1-4a65-a5b3-dccab416e110')\"\n",
              "            title=\"Convert this dataframe to an interactive table.\"\n",
              "            style=\"display:none;\">\n",
              "\n",
              "  <svg xmlns=\"http://www.w3.org/2000/svg\" height=\"24px\" viewBox=\"0 -960 960 960\">\n",
              "    <path d=\"M120-120v-720h720v720H120Zm60-500h600v-160H180v160Zm220 220h160v-160H400v160Zm0 220h160v-160H400v160ZM180-400h160v-160H180v160Zm440 0h160v-160H620v160ZM180-180h160v-160H180v160Zm440 0h160v-160H620v160Z\"/>\n",
              "  </svg>\n",
              "    </button>\n",
              "\n",
              "  <style>\n",
              "    .colab-df-container {\n",
              "      display:flex;\n",
              "      gap: 12px;\n",
              "    }\n",
              "\n",
              "    .colab-df-convert {\n",
              "      background-color: #E8F0FE;\n",
              "      border: none;\n",
              "      border-radius: 50%;\n",
              "      cursor: pointer;\n",
              "      display: none;\n",
              "      fill: #1967D2;\n",
              "      height: 32px;\n",
              "      padding: 0 0 0 0;\n",
              "      width: 32px;\n",
              "    }\n",
              "\n",
              "    .colab-df-convert:hover {\n",
              "      background-color: #E2EBFA;\n",
              "      box-shadow: 0px 1px 2px rgba(60, 64, 67, 0.3), 0px 1px 3px 1px rgba(60, 64, 67, 0.15);\n",
              "      fill: #174EA6;\n",
              "    }\n",
              "\n",
              "    .colab-df-buttons div {\n",
              "      margin-bottom: 4px;\n",
              "    }\n",
              "\n",
              "    [theme=dark] .colab-df-convert {\n",
              "      background-color: #3B4455;\n",
              "      fill: #D2E3FC;\n",
              "    }\n",
              "\n",
              "    [theme=dark] .colab-df-convert:hover {\n",
              "      background-color: #434B5C;\n",
              "      box-shadow: 0px 1px 3px 1px rgba(0, 0, 0, 0.15);\n",
              "      filter: drop-shadow(0px 1px 2px rgba(0, 0, 0, 0.3));\n",
              "      fill: #FFFFFF;\n",
              "    }\n",
              "  </style>\n",
              "\n",
              "    <script>\n",
              "      const buttonEl =\n",
              "        document.querySelector('#df-97f955f1-64a1-4a65-a5b3-dccab416e110 button.colab-df-convert');\n",
              "      buttonEl.style.display =\n",
              "        google.colab.kernel.accessAllowed ? 'block' : 'none';\n",
              "\n",
              "      async function convertToInteractive(key) {\n",
              "        const element = document.querySelector('#df-97f955f1-64a1-4a65-a5b3-dccab416e110');\n",
              "        const dataTable =\n",
              "          await google.colab.kernel.invokeFunction('convertToInteractive',\n",
              "                                                    [key], {});\n",
              "        if (!dataTable) return;\n",
              "\n",
              "        const docLinkHtml = 'Like what you see? Visit the ' +\n",
              "          '<a target=\"_blank\" href=https://colab.research.google.com/notebooks/data_table.ipynb>data table notebook</a>'\n",
              "          + ' to learn more about interactive tables.';\n",
              "        element.innerHTML = '';\n",
              "        dataTable['output_type'] = 'display_data';\n",
              "        await google.colab.output.renderOutput(dataTable, element);\n",
              "        const docLink = document.createElement('div');\n",
              "        docLink.innerHTML = docLinkHtml;\n",
              "        element.appendChild(docLink);\n",
              "      }\n",
              "    </script>\n",
              "  </div>\n",
              "\n",
              "\n",
              "<div id=\"df-d265d042-9211-4a95-a02f-ca214aefb35f\">\n",
              "  <button class=\"colab-df-quickchart\" onclick=\"quickchart('df-d265d042-9211-4a95-a02f-ca214aefb35f')\"\n",
              "            title=\"Suggest charts\"\n",
              "            style=\"display:none;\">\n",
              "\n",
              "<svg xmlns=\"http://www.w3.org/2000/svg\" height=\"24px\"viewBox=\"0 0 24 24\"\n",
              "     width=\"24px\">\n",
              "    <g>\n",
              "        <path d=\"M19 3H5c-1.1 0-2 .9-2 2v14c0 1.1.9 2 2 2h14c1.1 0 2-.9 2-2V5c0-1.1-.9-2-2-2zM9 17H7v-7h2v7zm4 0h-2V7h2v10zm4 0h-2v-4h2v4z\"/>\n",
              "    </g>\n",
              "</svg>\n",
              "  </button>\n",
              "\n",
              "<style>\n",
              "  .colab-df-quickchart {\n",
              "      --bg-color: #E8F0FE;\n",
              "      --fill-color: #1967D2;\n",
              "      --hover-bg-color: #E2EBFA;\n",
              "      --hover-fill-color: #174EA6;\n",
              "      --disabled-fill-color: #AAA;\n",
              "      --disabled-bg-color: #DDD;\n",
              "  }\n",
              "\n",
              "  [theme=dark] .colab-df-quickchart {\n",
              "      --bg-color: #3B4455;\n",
              "      --fill-color: #D2E3FC;\n",
              "      --hover-bg-color: #434B5C;\n",
              "      --hover-fill-color: #FFFFFF;\n",
              "      --disabled-bg-color: #3B4455;\n",
              "      --disabled-fill-color: #666;\n",
              "  }\n",
              "\n",
              "  .colab-df-quickchart {\n",
              "    background-color: var(--bg-color);\n",
              "    border: none;\n",
              "    border-radius: 50%;\n",
              "    cursor: pointer;\n",
              "    display: none;\n",
              "    fill: var(--fill-color);\n",
              "    height: 32px;\n",
              "    padding: 0;\n",
              "    width: 32px;\n",
              "  }\n",
              "\n",
              "  .colab-df-quickchart:hover {\n",
              "    background-color: var(--hover-bg-color);\n",
              "    box-shadow: 0 1px 2px rgba(60, 64, 67, 0.3), 0 1px 3px 1px rgba(60, 64, 67, 0.15);\n",
              "    fill: var(--button-hover-fill-color);\n",
              "  }\n",
              "\n",
              "  .colab-df-quickchart-complete:disabled,\n",
              "  .colab-df-quickchart-complete:disabled:hover {\n",
              "    background-color: var(--disabled-bg-color);\n",
              "    fill: var(--disabled-fill-color);\n",
              "    box-shadow: none;\n",
              "  }\n",
              "\n",
              "  .colab-df-spinner {\n",
              "    border: 2px solid var(--fill-color);\n",
              "    border-color: transparent;\n",
              "    border-bottom-color: var(--fill-color);\n",
              "    animation:\n",
              "      spin 1s steps(1) infinite;\n",
              "  }\n",
              "\n",
              "  @keyframes spin {\n",
              "    0% {\n",
              "      border-color: transparent;\n",
              "      border-bottom-color: var(--fill-color);\n",
              "      border-left-color: var(--fill-color);\n",
              "    }\n",
              "    20% {\n",
              "      border-color: transparent;\n",
              "      border-left-color: var(--fill-color);\n",
              "      border-top-color: var(--fill-color);\n",
              "    }\n",
              "    30% {\n",
              "      border-color: transparent;\n",
              "      border-left-color: var(--fill-color);\n",
              "      border-top-color: var(--fill-color);\n",
              "      border-right-color: var(--fill-color);\n",
              "    }\n",
              "    40% {\n",
              "      border-color: transparent;\n",
              "      border-right-color: var(--fill-color);\n",
              "      border-top-color: var(--fill-color);\n",
              "    }\n",
              "    60% {\n",
              "      border-color: transparent;\n",
              "      border-right-color: var(--fill-color);\n",
              "    }\n",
              "    80% {\n",
              "      border-color: transparent;\n",
              "      border-right-color: var(--fill-color);\n",
              "      border-bottom-color: var(--fill-color);\n",
              "    }\n",
              "    90% {\n",
              "      border-color: transparent;\n",
              "      border-bottom-color: var(--fill-color);\n",
              "    }\n",
              "  }\n",
              "</style>\n",
              "\n",
              "  <script>\n",
              "    async function quickchart(key) {\n",
              "      const quickchartButtonEl =\n",
              "        document.querySelector('#' + key + ' button');\n",
              "      quickchartButtonEl.disabled = true;  // To prevent multiple clicks.\n",
              "      quickchartButtonEl.classList.add('colab-df-spinner');\n",
              "      try {\n",
              "        const charts = await google.colab.kernel.invokeFunction(\n",
              "            'suggestCharts', [key], {});\n",
              "      } catch (error) {\n",
              "        console.error('Error during call to suggestCharts:', error);\n",
              "      }\n",
              "      quickchartButtonEl.classList.remove('colab-df-spinner');\n",
              "      quickchartButtonEl.classList.add('colab-df-quickchart-complete');\n",
              "    }\n",
              "    (() => {\n",
              "      let quickchartButtonEl =\n",
              "        document.querySelector('#df-d265d042-9211-4a95-a02f-ca214aefb35f button');\n",
              "      quickchartButtonEl.style.display =\n",
              "        google.colab.kernel.accessAllowed ? 'block' : 'none';\n",
              "    })();\n",
              "  </script>\n",
              "</div>\n",
              "\n",
              "  <div id=\"id_46d88d82-0954-441c-8669-46c421c20051\">\n",
              "    <style>\n",
              "      .colab-df-generate {\n",
              "        background-color: #E8F0FE;\n",
              "        border: none;\n",
              "        border-radius: 50%;\n",
              "        cursor: pointer;\n",
              "        display: none;\n",
              "        fill: #1967D2;\n",
              "        height: 32px;\n",
              "        padding: 0 0 0 0;\n",
              "        width: 32px;\n",
              "      }\n",
              "\n",
              "      .colab-df-generate:hover {\n",
              "        background-color: #E2EBFA;\n",
              "        box-shadow: 0px 1px 2px rgba(60, 64, 67, 0.3), 0px 1px 3px 1px rgba(60, 64, 67, 0.15);\n",
              "        fill: #174EA6;\n",
              "      }\n",
              "\n",
              "      [theme=dark] .colab-df-generate {\n",
              "        background-color: #3B4455;\n",
              "        fill: #D2E3FC;\n",
              "      }\n",
              "\n",
              "      [theme=dark] .colab-df-generate:hover {\n",
              "        background-color: #434B5C;\n",
              "        box-shadow: 0px 1px 3px 1px rgba(0, 0, 0, 0.15);\n",
              "        filter: drop-shadow(0px 1px 2px rgba(0, 0, 0, 0.3));\n",
              "        fill: #FFFFFF;\n",
              "      }\n",
              "    </style>\n",
              "    <button class=\"colab-df-generate\" onclick=\"generateWithVariable('update_sample')\"\n",
              "            title=\"Generate code using this dataframe.\"\n",
              "            style=\"display:none;\">\n",
              "\n",
              "  <svg xmlns=\"http://www.w3.org/2000/svg\" height=\"24px\"viewBox=\"0 0 24 24\"\n",
              "       width=\"24px\">\n",
              "    <path d=\"M7,19H8.4L18.45,9,17,7.55,7,17.6ZM5,21V16.75L18.45,3.32a2,2,0,0,1,2.83,0l1.4,1.43a1.91,1.91,0,0,1,.58,1.4,1.91,1.91,0,0,1-.58,1.4L9.25,21ZM18.45,9,17,7.55Zm-12,3A5.31,5.31,0,0,0,4.9,8.1,5.31,5.31,0,0,0,1,6.5,5.31,5.31,0,0,0,4.9,4.9,5.31,5.31,0,0,0,6.5,1,5.31,5.31,0,0,0,8.1,4.9,5.31,5.31,0,0,0,12,6.5,5.46,5.46,0,0,0,6.5,12Z\"/>\n",
              "  </svg>\n",
              "    </button>\n",
              "    <script>\n",
              "      (() => {\n",
              "      const buttonEl =\n",
              "        document.querySelector('#id_46d88d82-0954-441c-8669-46c421c20051 button.colab-df-generate');\n",
              "      buttonEl.style.display =\n",
              "        google.colab.kernel.accessAllowed ? 'block' : 'none';\n",
              "\n",
              "      buttonEl.onclick = () => {\n",
              "        google.colab.notebook.generateWithVariable('update_sample');\n",
              "      }\n",
              "      })();\n",
              "    </script>\n",
              "  </div>\n",
              "\n",
              "    </div>\n",
              "  </div>\n"
            ],
            "application/vnd.google.colaboratory.intrinsic+json": {
              "type": "dataframe",
              "variable_name": "update_sample",
              "summary": "{\n  \"name\": \"update_sample\",\n  \"rows\": 5,\n  \"fields\": [\n    {\n      \"column\": 0,\n      \"properties\": {\n        \"dtype\": \"string\",\n        \"num_unique_values\": 5,\n        \"samples\": [\n          \"?\\u4eba\\u5bb6 \",\n          \"(\\u5f71\\u5370) \\u97d3\\u570b\\u53e4\\u5178\\u53e2\\u520a :\\u50b3\\u8a18\\u985e\",\n          \"\\u7a7a\\u9593\\u306e\\u672a? \"\n        ],\n        \"semantic_type\": \"\",\n        \"description\": \"\"\n      }\n    },\n    {\n      \"column\": 1,\n      \"properties\": {\n        \"dtype\": \"string\",\n        \"num_unique_values\": 5,\n        \"samples\": [\n          \"[?]?\\u5143\\u5e73 \\u8457 ;???,?\\u541b\\u5cf0 [\\u5171]?\",\n          \"\\u97d3\\u570b\\u53e4\\u5178\\u98dc\\u8b6f\\u9662 [\\ud3b8]\",\n          \"\\u516a\\u70ab\\u6e96 \\u8457 ;\\u30aa\\u30b9\\u30f3\\u30e8\\u30f3 ?\"\n        ],\n        \"semantic_type\": \"\",\n        \"description\": \"\"\n      }\n    },\n    {\n      \"column\": 2,\n      \"properties\": {\n        \"dtype\": \"number\",\n        \"std\": null,\n        \"min\": null,\n        \"max\": null,\n        \"num_unique_values\": 0,\n        \"samples\": [],\n        \"semantic_type\": \"\",\n        \"description\": \"\"\n      }\n    },\n    {\n      \"column\": 3,\n      \"properties\": {\n        \"dtype\": \"object\",\n        \"semantic_type\": \"\",\n        \"description\": \"\"\n      }\n    }\n  ]\n}"
            }
          },
          "metadata": {},
          "execution_count": 47
        }
      ]
    },
    {
      "cell_type": "code",
      "source": [
        "update_sample = ns_book5[na_rows].apply(get_book_info, axis=1, result_type = 'expand')\n",
        "update_sample"
      ],
      "metadata": {
        "id": "n6n8llBgfldO"
      },
      "execution_count": null,
      "outputs": []
    },
    {
      "cell_type": "code",
      "source": [
        "update_sample.to_csv('ns_book5_update.csv', index=False)"
      ],
      "metadata": {
        "id": "sQAhdDFlglSf"
      },
      "execution_count": null,
      "outputs": []
    },
    {
      "cell_type": "code",
      "source": [
        "ns_book5_update = pd.read_csv('ns_book5_update.csv', index_col=0)\n",
        "ns_book5_update.head()"
      ],
      "metadata": {
        "id": "WSFzSNEsp4at"
      },
      "execution_count": null,
      "outputs": []
    },
    {
      "cell_type": "code",
      "source": [
        "ns_book5.update(ns_book_update)\n",
        "na_rows = ns_book5['도서명'].isna() | ns_book5['저자'].isna() | ns_book5['출판사'].isna() | ns_book5['발행년도'].eq(-1)\n",
        "print(na_rows.sum())"
      ],
      "metadata": {
        "id": "aG8AhzAXqB1g"
      },
      "execution_count": null,
      "outputs": []
    },
    {
      "cell_type": "code",
      "source": [],
      "metadata": {
        "id": "gerUNuJKqS0D"
      },
      "execution_count": null,
      "outputs": []
    }
  ]
}